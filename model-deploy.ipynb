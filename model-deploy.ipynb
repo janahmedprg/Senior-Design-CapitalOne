{
 "cells": [
  {
   "cell_type": "markdown",
   "metadata": {},
   "source": [
    "# Deploying a model in AWS Sagemaker"
   ]
  },
  {
   "cell_type": "code",
   "execution_count": 22,
   "metadata": {},
   "outputs": [],
   "source": [
    "from sagemaker.sklearn.estimator import SKLearn\n",
    "\n",
    "role = \"arn:aws:iam::058264225877:role/service-role/AmazonSageMaker-ExecutionRole-20240414T183938\"\n",
    "testPath = \"s3://cisc498-data/credit-card-fraud/test/fraudTest.csv\"\n",
    "trainPath = \"s3://cisc498-data/credit-card-fraud/train/fraudTrain.csv\"\n",
    "\n",
    "# Initialize a SageMaker SKLearn estimator\n",
    "sklearn_estimator = SKLearn(\n",
    "    entry_point='train.py', # Script to train the model\n",
    "    framework_version='0.23-1',\n",
    "    role=role,\n",
    "    instance_type='ml.m5.large',\n",
    "    instance_count=1,\n",
    "    hyperparameters={'n_estimators': 300, 'random_state': 42}\n",
    ")"
   ]
  },
  {
   "cell_type": "code",
   "execution_count": 23,
   "metadata": {},
   "outputs": [
    {
     "name": "stderr",
     "output_type": "stream",
     "text": [
      "INFO:sagemaker:Creating training-job with name: sagemaker-scikit-learn-2024-05-17-03-06-31-686\n"
     ]
    },
    {
     "name": "stdout",
     "output_type": "stream",
     "text": [
      "2024-05-17 03:06:31 Starting - Starting the training job...\n",
      "2024-05-17 03:06:47 Starting - Preparing the instances for training...\n",
      "2024-05-17 03:07:19 Downloading - Downloading input data...\n",
      "2024-05-17 03:07:53 Downloading - Downloading the training image...\n",
      "2024-05-17 03:08:29 Training - Training image download completed. Training in progress..2024-05-17 03:08:34,046 sagemaker-containers INFO     Imported framework sagemaker_sklearn_container.training\n",
      "2024-05-17 03:08:34,049 sagemaker-training-toolkit INFO     No GPUs detected (normal if no gpus installed)\n",
      "2024-05-17 03:08:34,089 sagemaker_sklearn_container.training INFO     Invoking user training script.\n",
      "2024-05-17 03:08:34,245 sagemaker-training-toolkit INFO     No GPUs detected (normal if no gpus installed)\n",
      "2024-05-17 03:08:34,257 sagemaker-training-toolkit INFO     No GPUs detected (normal if no gpus installed)\n",
      "2024-05-17 03:08:34,270 sagemaker-training-toolkit INFO     No GPUs detected (normal if no gpus installed)\n",
      "2024-05-17 03:08:34,278 sagemaker-training-toolkit INFO     Invoking user script\n",
      "Training Env:\n",
      "{\n",
      "    \"additional_framework_parameters\": {},\n",
      "    \"channel_input_dirs\": {\n",
      "        \"test\": \"/opt/ml/input/data/test\",\n",
      "        \"train\": \"/opt/ml/input/data/train\"\n",
      "    },\n",
      "    \"current_host\": \"algo-1\",\n",
      "    \"framework_module\": \"sagemaker_sklearn_container.training:main\",\n",
      "    \"hosts\": [\n",
      "        \"algo-1\"\n",
      "    ],\n",
      "    \"hyperparameters\": {\n",
      "        \"n_estimators\": 300,\n",
      "        \"random_state\": 42\n",
      "    },\n",
      "    \"input_config_dir\": \"/opt/ml/input/config\",\n",
      "    \"input_data_config\": {\n",
      "        \"test\": {\n",
      "            \"TrainingInputMode\": \"File\",\n",
      "            \"S3DistributionType\": \"FullyReplicated\",\n",
      "            \"RecordWrapperType\": \"None\"\n",
      "        },\n",
      "        \"train\": {\n",
      "            \"TrainingInputMode\": \"File\",\n",
      "            \"S3DistributionType\": \"FullyReplicated\",\n",
      "            \"RecordWrapperType\": \"None\"\n",
      "        }\n",
      "    },\n",
      "    \"input_dir\": \"/opt/ml/input\",\n",
      "    \"is_master\": true,\n",
      "    \"job_name\": \"sagemaker-scikit-learn-2024-05-17-03-06-31-686\",\n",
      "    \"log_level\": 20,\n",
      "    \"master_hostname\": \"algo-1\",\n",
      "    \"model_dir\": \"/opt/ml/model\",\n",
      "    \"module_dir\": \"s3://sagemaker-us-east-1-058264225877/sagemaker-scikit-learn-2024-05-17-03-06-31-686/source/sourcedir.tar.gz\",\n",
      "    \"module_name\": \"train\",\n",
      "    \"network_interface_name\": \"eth0\",\n",
      "    \"num_cpus\": 2,\n",
      "    \"num_gpus\": 0,\n",
      "    \"output_data_dir\": \"/opt/ml/output/data\",\n",
      "    \"output_dir\": \"/opt/ml/output\",\n",
      "    \"output_intermediate_dir\": \"/opt/ml/output/intermediate\",\n",
      "    \"resource_config\": {\n",
      "        \"current_host\": \"algo-1\",\n",
      "        \"current_instance_type\": \"ml.m5.large\",\n",
      "        \"current_group_name\": \"homogeneousCluster\",\n",
      "        \"hosts\": [\n",
      "            \"algo-1\"\n",
      "        ],\n",
      "        \"instance_groups\": [\n",
      "            {\n",
      "                \"instance_group_name\": \"homogeneousCluster\",\n",
      "                \"instance_type\": \"ml.m5.large\",\n",
      "                \"hosts\": [\n",
      "                    \"algo-1\"\n",
      "                ]\n",
      "            }\n",
      "        ],\n",
      "        \"network_interface_name\": \"eth0\"\n",
      "    },\n",
      "    \"user_entry_point\": \"train.py\"\n",
      "}\n",
      "Environment variables:\n",
      "SM_HOSTS=[\"algo-1\"]\n",
      "SM_NETWORK_INTERFACE_NAME=eth0\n",
      "SM_HPS={\"n_estimators\":300,\"random_state\":42}\n",
      "SM_USER_ENTRY_POINT=train.py\n",
      "SM_FRAMEWORK_PARAMS={}\n",
      "SM_RESOURCE_CONFIG={\"current_group_name\":\"homogeneousCluster\",\"current_host\":\"algo-1\",\"current_instance_type\":\"ml.m5.large\",\"hosts\":[\"algo-1\"],\"instance_groups\":[{\"hosts\":[\"algo-1\"],\"instance_group_name\":\"homogeneousCluster\",\"instance_type\":\"ml.m5.large\"}],\"network_interface_name\":\"eth0\"}\n",
      "SM_INPUT_DATA_CONFIG={\"test\":{\"RecordWrapperType\":\"None\",\"S3DistributionType\":\"FullyReplicated\",\"TrainingInputMode\":\"File\"},\"train\":{\"RecordWrapperType\":\"None\",\"S3DistributionType\":\"FullyReplicated\",\"TrainingInputMode\":\"File\"}}\n",
      "SM_OUTPUT_DATA_DIR=/opt/ml/output/data\n",
      "SM_CHANNELS=[\"test\",\"train\"]\n",
      "SM_CURRENT_HOST=algo-1\n",
      "SM_MODULE_NAME=train\n",
      "SM_LOG_LEVEL=20\n",
      "SM_FRAMEWORK_MODULE=sagemaker_sklearn_container.training:main\n",
      "SM_INPUT_DIR=/opt/ml/input\n",
      "SM_INPUT_CONFIG_DIR=/opt/ml/input/config\n",
      "SM_OUTPUT_DIR=/opt/ml/output\n",
      "SM_NUM_CPUS=2\n",
      "SM_NUM_GPUS=0\n",
      "SM_MODEL_DIR=/opt/ml/model\n",
      "SM_MODULE_DIR=s3://sagemaker-us-east-1-058264225877/sagemaker-scikit-learn-2024-05-17-03-06-31-686/source/sourcedir.tar.gz\n",
      "SM_TRAINING_ENV={\"additional_framework_parameters\":{},\"channel_input_dirs\":{\"test\":\"/opt/ml/input/data/test\",\"train\":\"/opt/ml/input/data/train\"},\"current_host\":\"algo-1\",\"framework_module\":\"sagemaker_sklearn_container.training:main\",\"hosts\":[\"algo-1\"],\"hyperparameters\":{\"n_estimators\":300,\"random_state\":42},\"input_config_dir\":\"/opt/ml/input/config\",\"input_data_config\":{\"test\":{\"RecordWrapperType\":\"None\",\"S3DistributionType\":\"FullyReplicated\",\"TrainingInputMode\":\"File\"},\"train\":{\"RecordWrapperType\":\"None\",\"S3DistributionType\":\"FullyReplicated\",\"TrainingInputMode\":\"File\"}},\"input_dir\":\"/opt/ml/input\",\"is_master\":true,\"job_name\":\"sagemaker-scikit-learn-2024-05-17-03-06-31-686\",\"log_level\":20,\"master_hostname\":\"algo-1\",\"model_dir\":\"/opt/ml/model\",\"module_dir\":\"s3://sagemaker-us-east-1-058264225877/sagemaker-scikit-learn-2024-05-17-03-06-31-686/source/sourcedir.tar.gz\",\"module_name\":\"train\",\"network_interface_name\":\"eth0\",\"num_cpus\":2,\"num_gpus\":0,\"output_data_dir\":\"/opt/ml/output/data\",\"output_dir\":\"/opt/ml/output\",\"output_intermediate_dir\":\"/opt/ml/output/intermediate\",\"resource_config\":{\"current_group_name\":\"homogeneousCluster\",\"current_host\":\"algo-1\",\"current_instance_type\":\"ml.m5.large\",\"hosts\":[\"algo-1\"],\"instance_groups\":[{\"hosts\":[\"algo-1\"],\"instance_group_name\":\"homogeneousCluster\",\"instance_type\":\"ml.m5.large\"}],\"network_interface_name\":\"eth0\"},\"user_entry_point\":\"train.py\"}\n",
      "SM_USER_ARGS=[\"--n_estimators\",\"300\",\"--random_state\",\"42\"]\n",
      "SM_OUTPUT_INTERMEDIATE_DIR=/opt/ml/output/intermediate\n",
      "SM_CHANNEL_TEST=/opt/ml/input/data/test\n",
      "SM_CHANNEL_TRAIN=/opt/ml/input/data/train\n",
      "SM_HP_N_ESTIMATORS=300\n",
      "SM_HP_RANDOM_STATE=42\n",
      "PYTHONPATH=/opt/ml/code:/miniconda3/bin:/miniconda3/lib/python37.zip:/miniconda3/lib/python3.7:/miniconda3/lib/python3.7/lib-dynload:/miniconda3/lib/python3.7/site-packages\n",
      "Invoking script with the following command:\n",
      "/miniconda3/bin/python train.py --n_estimators 300 --random_state 42\n",
      "[INFO] Extracting arguments\n",
      "SKLearn Version: 0.23.2\n",
      "Joblib Version: 1.2.0\n",
      "[INFO] Reading data\n",
      "Building training and testing datasets\n",
      "train data shape (100000, 6)\n",
      "test data shape (555719, 6)\n",
      "y train shape (100000,)\n",
      "y test shape (555719,)\n",
      "Training RandomForest Model....\n",
      "Model persisted at /opt/ml/model/model.joblib\n",
      "\n",
      "2024-05-17 03:10:04 Uploading - Uploading generated training model---- METRICS RESULTS FOR TESTING DATA ----\n",
      "Total Rows are: 555719\n",
      "[TESTING] Model Accuracy is: 0.9897772075455401\n",
      "[TESTING] Confusion Matrix:\n",
      "[[548879   4695]\n",
      " [   986   1159]]\n",
      "[TESTING] Testing Report:\n",
      "              precision    recall  f1-score   support\n",
      "           0       1.00      0.99      0.99    553574\n",
      "           1       0.20      0.54      0.29      2145\n",
      "    accuracy                           0.99    555719\n",
      "   macro avg       0.60      0.77      0.64    555719\n",
      "weighted avg       1.00      0.99      0.99    555719\n",
      "2024-05-17 03:10:01,405 sagemaker-containers INFO     Reporting training SUCCESS\n",
      "\n",
      "2024-05-17 03:10:22 Completed - Training job completed\n",
      "Training seconds: 184\n",
      "Billable seconds: 184\n"
     ]
    }
   ],
   "source": [
    "sklearn_estimator.fit({\"train\": trainPath, \"test\": testPath}, wait=True)"
   ]
  },
  {
   "cell_type": "code",
   "execution_count": 24,
   "metadata": {},
   "outputs": [
    {
     "name": "stdout",
     "output_type": "stream",
     "text": [
      "\n",
      "2024-05-17 03:10:22 Starting - Preparing the instances for training\n",
      "2024-05-17 03:10:22 Downloading - Downloading the training image\n",
      "2024-05-17 03:10:22 Training - Training image download completed. Training in progress.\n",
      "2024-05-17 03:10:22 Uploading - Uploading generated training model\n",
      "2024-05-17 03:10:22 Completed - Training job completed\n",
      "s3://sagemaker-us-east-1-058264225877/sagemaker-scikit-learn-2024-05-17-03-06-31-686/output/model.tar.gz\n"
     ]
    }
   ],
   "source": [
    "import boto3\n",
    "import sagemaker\n",
    "\n",
    "# Initialize SageMaker session\n",
    "sagemaker_session = sagemaker.Session()\n",
    "\n",
    "# Initialize SageMaker client\n",
    "sm_boto3 = boto3.client('sagemaker')\n",
    "\n",
    "sklearn_estimator.latest_training_job.wait(logs=\"None\")\n",
    "artifact = sm_boto3.describe_training_job(\n",
    "    TrainingJobName=sklearn_estimator.latest_training_job.name\n",
    ")[\"ModelArtifacts\"][\"S3ModelArtifacts\"]\n",
    "print(artifact)"
   ]
  },
  {
   "cell_type": "code",
   "execution_count": 25,
   "metadata": {},
   "outputs": [],
   "source": [
    "from sagemaker.sklearn.model import SKLearnModel\n",
    "from time import gmtime, strftime\n",
    "\n",
    "model_name = \"fraud-model-\" + strftime(\"%Y-%m-%d-%H-%M-%S\", gmtime())\n",
    "model = SKLearnModel(\n",
    "    name = model_name,\n",
    "    model_data=artifact,\n",
    "    role=\"arn:aws:iam::058264225877:role/service-role/AmazonSageMaker-ExecutionRole-20240414T183938\",\n",
    "    entry_point=\"train.py\",\n",
    "    framework_version='0.23-1',\n",
    ")"
   ]
  },
  {
   "cell_type": "code",
   "execution_count": 26,
   "metadata": {},
   "outputs": [
    {
     "name": "stderr",
     "output_type": "stream",
     "text": [
      "INFO:sagemaker:Creating model with name: fraud-model-2024-05-17-03-13-58\n",
      "INFO:sagemaker:Creating endpoint-config with name fraud-model-2024-05-17-03-13-58\n",
      "INFO:sagemaker:Creating endpoint with name fraud-model-2024-05-17-03-13-58\n"
     ]
    },
    {
     "name": "stdout",
     "output_type": "stream",
     "text": [
      "-----!"
     ]
    }
   ],
   "source": [
    "predictor = model.deploy(initial_instance_count=1, instance_type=\"ml.m5.large\", endpoint_name=model_name,)"
   ]
  },
  {
   "cell_type": "markdown",
   "metadata": {},
   "source": [
    "## Inferring model"
   ]
  },
  {
   "cell_type": "code",
   "execution_count": 27,
   "metadata": {},
   "outputs": [
    {
     "name": "stdout",
     "output_type": "stream",
     "text": [
      "[0]\n"
     ]
    }
   ],
   "source": [
    "import boto3\n",
    "import json\n",
    "\n",
    "client = boto3.client('sagemaker-runtime')\n",
    "\n",
    "endpoint_name = \"fraud-model-2024-05-17-03-13-58\"\n",
    "content_type = 'application/json'\n",
    "payload = json.dumps([[219.66, 41.14, -84.5722, 6284, 41.853691, -84.255284]])\n",
    "response = client.invoke_endpoint(\n",
    "    EndpointName=endpoint_name,\n",
    "    ContentType=content_type,\n",
    "    Body=payload\n",
    "    )\n",
    "\n",
    "print(response['Body'].read().decode())"
   ]
  }
 ],
 "metadata": {
  "kernelspec": {
   "display_name": "Python 3",
   "language": "python",
   "name": "python3"
  },
  "language_info": {
   "codemirror_mode": {
    "name": "ipython",
    "version": 3
   },
   "file_extension": ".py",
   "mimetype": "text/x-python",
   "name": "python",
   "nbconvert_exporter": "python",
   "pygments_lexer": "ipython3",
   "version": "3.11.4"
  }
 },
 "nbformat": 4,
 "nbformat_minor": 2
}
