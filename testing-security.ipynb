{
 "cells": [
  {
   "cell_type": "markdown",
   "metadata": {},
   "source": [
    "# Testing the endpoint security"
   ]
  },
  {
   "cell_type": "code",
   "execution_count": 6,
   "metadata": {},
   "outputs": [
    {
     "name": "stdout",
     "output_type": "stream",
     "text": [
      "{'x-api-key': 'zfP1sI1BYM1MXHfIAcuZf23ohwdXBgyU2rAgPSSd'}\n",
      "API Response: {'statusCode': 200, 'body': [0]}\n",
      "0\n"
     ]
    }
   ],
   "source": [
    "import requests\n",
    "\n",
    "import random\n",
    "import string\n",
    "import os\n",
    "from dotenv import load_dotenv\n",
    "\n",
    "def generate_random_string(length):\n",
    "    characters = string.ascii_letters + string.digits\n",
    "    random_string = ''.join(random.choice(characters) for _ in range(length))\n",
    "    return random_string\n",
    "\n",
    "load_dotenv()\n",
    "\n",
    "url = \"https://i01o30bt3l.execute-api.us-east-1.amazonaws.com/api-fraud/api-fraud-detection\"\n",
    "api_key = os.getenv(\"API_KEY\")\n",
    "\n",
    "payload = {\"data\": [996.31, 42.5200, -78.6847, 7728, 43.110777, -78.685005]}\n",
    "\n",
    "for i in range(1):\n",
    "    headers = {\n",
    "        \"x-api-key\": generate_random_string(40)\n",
    "    }\n",
    "    print(headers)\n",
    "    response = requests.post(url, json=payload, headers=headers)\n",
    "    if response.status_code == 200:\n",
    "        result = response.json()\n",
    "        print(\"API Response:\", result)\n",
    "    else:\n",
    "        print(\"Request failed with status code:\", response.status_code)\n",
    "    \n",
    "    print(i)\n"
   ]
  },
  {
   "cell_type": "code",
   "execution_count": null,
   "metadata": {},
   "outputs": [],
   "source": []
  }
 ],
 "metadata": {
  "kernelspec": {
   "display_name": "Python 3",
   "language": "python",
   "name": "python3"
  },
  "language_info": {
   "codemirror_mode": {
    "name": "ipython",
    "version": 3
   },
   "file_extension": ".py",
   "mimetype": "text/x-python",
   "name": "python",
   "nbconvert_exporter": "python",
   "pygments_lexer": "ipython3",
   "version": "3.11.4"
  }
 },
 "nbformat": 4,
 "nbformat_minor": 2
}
